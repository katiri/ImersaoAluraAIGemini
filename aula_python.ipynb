{
  "nbformat": 4,
  "nbformat_minor": 0,
  "metadata": {
    "colab": {
      "provenance": [],
      "authorship_tag": "ABX9TyOfJv+RfJJHINS6DTS8/Oj0",
      "include_colab_link": true
    },
    "kernelspec": {
      "name": "python3",
      "display_name": "Python 3"
    },
    "language_info": {
      "name": "python"
    }
  },
  "cells": [
    {
      "cell_type": "markdown",
      "metadata": {
        "id": "view-in-github",
        "colab_type": "text"
      },
      "source": [
        "<a href=\"https://colab.research.google.com/github/katiri/ImersaoAluraAIGemini/blob/main/aula_python.ipynb\" target=\"_parent\"><img src=\"https://colab.research.google.com/assets/colab-badge.svg\" alt=\"Open In Colab\"/></a>"
      ]
    },
    {
      "cell_type": "code",
      "execution_count": null,
      "metadata": {
        "colab": {
          "base_uri": "https://localhost:8080/"
        },
        "id": "Yyt-MOKXyzuu",
        "outputId": "ceef1ac1-f6f3-4ac2-af6e-fa974e7230c2"
      },
      "outputs": [
        {
          "output_type": "stream",
          "name": "stdout",
          "text": [
            "Hello world\n"
          ]
        }
      ],
      "source": [
        "print(\"Hello world\")"
      ]
    },
    {
      "cell_type": "code",
      "source": [
        "import requests\n",
        "\n",
        "url = 'https://raw.githubusercontent.com/guilhermeonrails/api-imersao-ia/main/words.json'\n",
        "\n",
        "resposta = requests.get(url)\n",
        "\n",
        "data = resposta.json()\n",
        "\n",
        "len(data)"
      ],
      "metadata": {
        "colab": {
          "base_uri": "https://localhost:8080/"
        },
        "id": "sN7OMsCjzRpd",
        "outputId": "ed865983-d799-4e77-8445-a5efd6ea5b49"
      },
      "execution_count": 8,
      "outputs": [
        {
          "output_type": "execute_result",
          "data": {
            "text/plain": [
              "43"
            ]
          },
          "metadata": {},
          "execution_count": 8
        }
      ]
    },
    {
      "cell_type": "code",
      "source": [
        "data[0] # Pega a primeira posição da lista"
      ],
      "metadata": {
        "colab": {
          "base_uri": "https://localhost:8080/"
        },
        "id": "vgZlJXOW3Sr6",
        "outputId": "b658f94b-078f-41b1-e03d-2f16a879affc"
      },
      "execution_count": 13,
      "outputs": [
        {
          "output_type": "execute_result",
          "data": {
            "text/plain": [
              "{'palavra': 'python',\n",
              " 'dica': 'automatizar tarefas e desenvolver aplicações web.'}"
            ]
          },
          "metadata": {},
          "execution_count": 13
        }
      ]
    },
    {
      "cell_type": "code",
      "source": [
        "data[-1] # Pega a última posição da lista"
      ],
      "metadata": {
        "colab": {
          "base_uri": "https://localhost:8080/"
        },
        "id": "IUID0hnm3gI9",
        "outputId": "cc6bacac-5931-40a4-be7a-6d7e777390b8"
      },
      "execution_count": 14,
      "outputs": [
        {
          "output_type": "execute_result",
          "data": {
            "text/plain": [
              "{'palavra': 'oauth',\n",
              " 'dica': 'implementar autenticação e autorização em aplicativos.'}"
            ]
          },
          "metadata": {},
          "execution_count": 14
        }
      ]
    },
    {
      "cell_type": "code",
      "source": [
        "import random\n",
        "\n",
        "valor_secreto = random.choice(data) # Escolhe um dado aleatório da lista\n",
        "# Cada elemento da lista é um dicionário com um valor para 'palavra' e outro para 'dica'\n",
        "\n",
        "palavra_secreta = valor_secreto['palavra'] # Pega o valor da 'palavra' armazenada no item da lista escolhido aleatoriamente\n",
        "dica = valor_secreto['dica'] # Pega o valor da 'dica' armazenada no item da lista escolhido aleatoriamente\n",
        "\n",
        "print(f'A palavra tem {len(palavra_secreta)} letras e a dica é \"{dica}\"')"
      ],
      "metadata": {
        "colab": {
          "base_uri": "https://localhost:8080/"
        },
        "id": "LJbNiaDu3tAb",
        "outputId": "f2d7b70f-2a6c-4a3c-9c91-318c8223ffaa"
      },
      "execution_count": 18,
      "outputs": [
        {
          "output_type": "stream",
          "name": "stdout",
          "text": [
            "A palavra tem 8 letras e a dica é \"desenvolver aplicativos móveis e web com uma plataforma de backend escalável.\"\n"
          ]
        }
      ]
    }
  ]
}