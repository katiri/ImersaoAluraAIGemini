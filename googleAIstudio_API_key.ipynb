{
  "nbformat": 4,
  "nbformat_minor": 0,
  "metadata": {
    "colab": {
      "provenance": [],
      "authorship_tag": "ABX9TyNcaeKbH3ZY8UY1YgEWqtf/",
      "include_colab_link": true
    },
    "kernelspec": {
      "name": "python3",
      "display_name": "Python 3"
    },
    "language_info": {
      "name": "python"
    }
  },
  "cells": [
    {
      "cell_type": "markdown",
      "metadata": {
        "id": "view-in-github",
        "colab_type": "text"
      },
      "source": [
        "<a href=\"https://colab.research.google.com/github/katiri/ImersaoAluraAIGemini/blob/main/googleAIstudio_API_key.ipynb\" target=\"_parent\"><img src=\"https://colab.research.google.com/assets/colab-badge.svg\" alt=\"Open In Colab\"/></a>"
      ]
    },
    {
      "cell_type": "code",
      "execution_count": 5,
      "metadata": {
        "id": "jJtr62W8KDFf"
      },
      "outputs": [],
      "source": [
        "pip install -q -U google-generativeai"
      ]
    },
    {
      "cell_type": "code",
      "source": [
        "import google.generativeai as genai\n",
        "\n",
        "GOOGLE_API_KEY = \"---Cole sua chave de api aqui---\"\n",
        "\n",
        "genai.configure(api_key=GOOGLE_API_KEY)"
      ],
      "metadata": {
        "id": "byEXSm8hLI5V"
      },
      "execution_count": 2,
      "outputs": []
    },
    {
      "cell_type": "code",
      "source": [
        "model = genai.GenerativeModel('gemini-pro')"
      ],
      "metadata": {
        "id": "r8Fc__bALfvd"
      },
      "execution_count": 3,
      "outputs": []
    },
    {
      "cell_type": "code",
      "source": [
        "response = model.generate_content(\"Quero aprender mais sobre IA, sugira alguns assuntos\")\n",
        "print(response.text)"
      ],
      "metadata": {
        "colab": {
          "base_uri": "https://localhost:8080/",
          "height": 1000
        },
        "id": "BjDRjonILoxK",
        "outputId": "ffbcc790-5cc3-4f49-8d03-096a36cb105f"
      },
      "execution_count": 4,
      "outputs": [
        {
          "output_type": "stream",
          "name": "stdout",
          "text": [
            "**Conceitos Fundamentais**\n",
            "\n",
            "* Aprendizado de máquina\n",
            "* Aprendizado profundo\n",
            "* Processamento de linguagem natural\n",
            "* Visão computacional\n",
            "* Aprendizado por reforço\n",
            "\n",
            "**Técnicas e Algoritmos**\n",
            "\n",
            "* Regressão linear e logística\n",
            "* Árvore de decisão\n",
            "* Máquina de vetores de suporte\n",
            "* Redes neurais\n",
            "* Redes recorrentes\n",
            "\n",
            "**Aplicações**\n",
            "\n",
            "* Reconhecimento de imagem\n",
            "* Processamento de linguagem natural\n",
            "* Diagnóstico médico\n",
            "* Previsão financeira\n",
            "* Robótica\n",
            "\n",
            "**Linguagens e Frameworks**\n",
            "\n",
            "* Python (Pandas, NumPy, Scikit-learn, TensorFlow)\n",
            "* R\n",
            "* Java\n",
            "* C++\n",
            "\n",
            "**Arquiteturas e Infraestrutura**\n",
            "\n",
            "* Computação em nuvem\n",
            "* Big Data\n",
            "* Processamento distribuído\n",
            "* Redes neurais de hardware\n",
            "\n",
            "**Ética e Implicações Sociais**\n",
            "\n",
            "* Viés nos dados\n",
            "* Privacidade\n",
            "* Impacto no emprego\n",
            "* Responsabilidade da IA\n",
            "\n",
            "**Tendências e Pesquisas**\n",
            "\n",
            "* IA generativa (por exemplo, GPT-3)\n",
            "* Aprendizado federado\n",
            "* Inteligência artificial quântica\n",
            "* Ética da IA\n",
            "\n",
            "**Recursos Adicionais**\n",
            "\n",
            "* [Coursera: Especialização em Aprendizado de Máquina](https://www.coursera.org/specializations/machine-learning)\n",
            "* [Udacity: Nanodegree em Aprendizagem Profunda](https://www.udacity.com/school-of-ai/nanodegree/nd013)\n",
            "* [MIT OpenCourseWare: Aprendizagem de Máquina](https://ocw.mit.edu/courses/electrical-engineering-and-computer-science/6-034-artificial-intelligence-fall-2010/)\n",
            "* [Stanford Online: Curso em Inteligência Artificial](https://online.stanford.edu/courses/soe-ycsgen1-artificial-intelligence)\n"
          ]
        }
      ]
    }
  ]
}