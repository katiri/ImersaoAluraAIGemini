{
  "nbformat": 4,
  "nbformat_minor": 0,
  "metadata": {
    "colab": {
      "provenance": [],
      "authorship_tag": "ABX9TyPkWDyxBtXUDXZtrqXtSa8p",
      "include_colab_link": true
    },
    "kernelspec": {
      "name": "python3",
      "display_name": "Python 3"
    },
    "language_info": {
      "name": "python"
    }
  },
  "cells": [
    {
      "cell_type": "markdown",
      "metadata": {
        "id": "view-in-github",
        "colab_type": "text"
      },
      "source": [
        "<a href=\"https://colab.research.google.com/github/katiri/ImersaoAluraAIGemini/blob/main/chatbot.ipynb\" target=\"_parent\"><img src=\"https://colab.research.google.com/assets/colab-badge.svg\" alt=\"Open In Colab\"/></a>"
      ]
    },
    {
      "cell_type": "code",
      "execution_count": 5,
      "metadata": {
        "id": "bhIgd1gwM6of"
      },
      "outputs": [],
      "source": [
        "!pip install -q -U google-generativeai"
      ]
    },
    {
      "cell_type": "code",
      "source": [
        "import google.generativeai as genai\n",
        "\n",
        "GOOGLE_API_KEY = \"---Cole sua chave de api aqui---\"\n",
        "\n",
        "genai.configure(api_key=GOOGLE_API_KEY)"
      ],
      "metadata": {
        "id": "HD5JhP7MNWD-"
      },
      "execution_count": 2,
      "outputs": []
    },
    {
      "cell_type": "markdown",
      "source": [
        "Listar os modelos disponíveis"
      ],
      "metadata": {
        "id": "MKh-0LAMNhIH"
      }
    },
    {
      "cell_type": "code",
      "source": [
        "for m in genai.list_models():\n",
        "  if 'generateContent' in m.supported_generation_methods:\n",
        "    print(m.name)"
      ],
      "metadata": {
        "colab": {
          "base_uri": "https://localhost:8080/",
          "height": 139
        },
        "id": "zill6QXQNaf2",
        "outputId": "8a103ae6-a0d1-4449-84e4-a44c774d6e31"
      },
      "execution_count": 4,
      "outputs": [
        {
          "output_type": "stream",
          "name": "stdout",
          "text": [
            "models/gemini-1.0-pro\n",
            "models/gemini-1.0-pro-001\n",
            "models/gemini-1.0-pro-latest\n",
            "models/gemini-1.0-pro-vision-latest\n",
            "models/gemini-1.5-pro-latest\n",
            "models/gemini-pro\n",
            "models/gemini-pro-vision\n"
          ]
        }
      ]
    },
    {
      "cell_type": "code",
      "source": [
        "generation_config = {\n",
        "    \"candidate_count\": 1,\n",
        "    \"temperature\": 0.5,\n",
        "}"
      ],
      "metadata": {
        "id": "s_yEyLgPOnow"
      },
      "execution_count": 6,
      "outputs": []
    },
    {
      "cell_type": "code",
      "source": [
        "safety_settings = {\n",
        "    \"HARASSMENT\": \"BLOCK_NONE\",\n",
        "    \"HATE\": \"BLOCK_NONE\",\n",
        "    \"SEXUAL\": \"BLOCK_NONE\",\n",
        "    \"DANGEROUS\": \"BLOCK_NONE\",\n",
        "}"
      ],
      "metadata": {
        "id": "67OHRJ4fO8T7"
      },
      "execution_count": 7,
      "outputs": []
    },
    {
      "cell_type": "markdown",
      "source": [
        "Inicializando modelo"
      ],
      "metadata": {
        "id": "yyeihwICPimx"
      }
    },
    {
      "cell_type": "code",
      "source": [
        "model = genai.GenerativeModel(model_name=\"gemini-1.0-pro\", generation_config=generation_config, safety_settings=safety_settings)"
      ],
      "metadata": {
        "id": "mj0ModOAPf1D"
      },
      "execution_count": 8,
      "outputs": []
    },
    {
      "cell_type": "code",
      "source": [
        "response = model.generate_content(\"Liste as características essências que todo chat bot deve ter\")\n",
        "print(response.text)"
      ],
      "metadata": {
        "colab": {
          "base_uri": "https://localhost:8080/",
          "height": 555
        },
        "id": "QLC7QszeP9a3",
        "outputId": "7171b951-4574-4fed-e967-57c7870868b6"
      },
      "execution_count": 9,
      "outputs": [
        {
          "output_type": "stream",
          "name": "stdout",
          "text": [
            "**Características Essenciais de um Chatbot**\n",
            "\n",
            "**1. Processamento de Linguagem Natural (PNL)**\n",
            "* Capacidade de entender e responder à linguagem humana de forma significativa.\n",
            "\n",
            "**2. Aprendizado de Máquina (ML)**\n",
            "* Habilidade de aprender com interações anteriores e melhorar o desempenho ao longo do tempo.\n",
            "\n",
            "**3. Personalização**\n",
            "* Capacidade de adaptar respostas e recomendações com base no histórico de conversas e preferências do usuário.\n",
            "\n",
            "**4. Integração**\n",
            "* Capacidade de se conectar a outros sistemas e aplicativos para fornecer informações e serviços abrangentes.\n",
            "\n",
            "**5. Interface de Usuário Intuitiva**\n",
            "* Interface fácil de usar que permite que os usuários interajam com o chatbot de forma natural e eficiente.\n",
            "\n",
            "**6. Respostas Rápidas**\n",
            "* Capacidade de fornecer respostas rápidas e precisas a perguntas comuns.\n",
            "\n",
            "**7. Gerenciamento de Contexto**\n",
            "* Capacidade de rastrear e manter o contexto da conversa para fornecer respostas relevantes e consistentes.\n",
            "\n",
            "**8. Escalonamento Humano**\n",
            "* Mecanismo para escalonar conversas para agentes humanos quando o chatbot não consegue resolver uma consulta.\n",
            "\n",
            "**9. Análise e Relatórios**\n",
            "* Capacidade de rastrear métricas de desempenho, como tempo de resposta e satisfação do usuário, para melhorar continuamente o chatbot.\n",
            "\n",
            "**10. Segurança e Privacidade**\n",
            "* Medidas de segurança robustas para proteger os dados do usuário e cumprir os regulamentos de privacidade.\n"
          ]
        }
      ]
    },
    {
      "cell_type": "code",
      "source": [
        "chat = model.start_chat(history=[])"
      ],
      "metadata": {
        "id": "bp1HL3nKQchC"
      },
      "execution_count": 11,
      "outputs": []
    },
    {
      "cell_type": "code",
      "source": [
        "prompt = input(\"Esperando prompt: \")\n",
        "\n",
        "while prompt != \"Fim\":\n",
        "  response = chat.send_message(prompt)\n",
        "  print(\"Resposta: \", response.text, \"\\n\")\n",
        "  prompt = input(\"Esperando prompt: \")"
      ],
      "metadata": {
        "colab": {
          "base_uri": "https://localhost:8080/",
          "height": 295
        },
        "id": "YRPf2SShQtVQ",
        "outputId": "cb211f75-ac8a-4361-e4b5-cd30a3d91678"
      },
      "execution_count": 13,
      "outputs": [
        {
          "name": "stdout",
          "output_type": "stream",
          "text": [
            "Esperando prompt: Qual a capital do Japão?\n",
            "Resposta:  Tóquio \n",
            "\n",
            "Esperando prompt: Qual é a comida típica desse país?\n",
            "Resposta:  Sushi \n",
            "\n",
            "Esperando prompt: Eu nasci nesse país, qual a minha nacionalidade?\n",
            "Resposta:  Japonês \n",
            "\n",
            "Esperando prompt: E qual a população da cidade?\n",
            "Resposta:  9.000.900 (2023) \n",
            "\n",
            "Esperando prompt: Essa é a população de qual cidade?\n",
            "Resposta:  Tóquio \n",
            "\n",
            "Esperando prompt: Fim\n"
          ]
        }
      ]
    }
  ]
}